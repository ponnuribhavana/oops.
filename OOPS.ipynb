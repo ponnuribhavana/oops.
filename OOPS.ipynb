{
 "cells": [
  {
   "cell_type": "markdown",
   "metadata": {},
   "source": [
    "# OOPS"
   ]
  },
  {
   "cell_type": "code",
   "execution_count": 1,
   "metadata": {},
   "outputs": [
    {
     "name": "stdout",
     "output_type": "stream",
     "text": [
      "Ravi 528\n"
     ]
    }
   ],
   "source": [
    "class person:\n",
    "    name = \"Ravi\"\n",
    "    ids = 528\n",
    "    def talk(cls):\n",
    "        print(cls.name,cls.ids)\n",
    "        \n",
    "p1 = person()\n",
    "p1.talk()"
   ]
  },
  {
   "cell_type": "code",
   "execution_count": 1,
   "metadata": {},
   "outputs": [
    {
     "name": "stdout",
     "output_type": "stream",
     "text": [
      "528 \n",
      " Ravi\n",
      "Python\n"
     ]
    }
   ],
   "source": [
    "class student:\n",
    "    def __init__(self):\n",
    "        self.id = 528\n",
    "        self.name = \"Ravi\"\n",
    "        self.__lover = \"Python\"\n",
    "    def display(self):\n",
    "        print(self.id,\"\\n\",self.name)\n",
    "        \n",
    "s1 = student()\n",
    "s1.display()\n",
    "print(s1._student__lover)"
   ]
  },
  {
   "cell_type": "code",
   "execution_count": 3,
   "metadata": {},
   "outputs": [
    {
     "name": "stdout",
     "output_type": "stream",
     "text": [
      "Ravi \n",
      " 28\n",
      "10\n",
      "Python\n"
     ]
    }
   ],
   "source": [
    "class student:\n",
    "    x=10\n",
    "    def __init__(self,n='',m=0):\n",
    "        self.id = m\n",
    "        self.name = n\n",
    "        self.__lover = \"Python\"\n",
    "    def display(self):\n",
    "        print(self.id,\"\\n\",self.name)\n",
    "        print(self.x)\n",
    "        \n",
    "s1 = student(28,\"Ravi\")\n",
    "s1.display()\n",
    "print(s1._student__lover)"
   ]
  },
  {
   "cell_type": "code",
   "execution_count": 12,
   "metadata": {},
   "outputs": [
    {
     "name": "stdout",
     "output_type": "stream",
     "text": [
      "10 \t 20\n",
      "20 \t 40\n",
      "10 \t 20\n"
     ]
    }
   ],
   "source": [
    "class krt:\n",
    "    i=10\n",
    "    def __init__(self):\n",
    "        self.j=20\n",
    "    def modify(self):\n",
    "        self.i += 10\n",
    "        self.j += 20\n",
    "    \n",
    "k = krt()\n",
    "print(k.i,\"\\t\",k.j)\n",
    "k.modify()\n",
    "print(k.i,\"\\t\",k.j)\n",
    "k1 = krt()\n",
    "print(k1.i,\"\\t\",k1.j)"
   ]
  },
  {
   "cell_type": "code",
   "execution_count": 23,
   "metadata": {},
   "outputs": [
    {
     "name": "stdout",
     "output_type": "stream",
     "text": [
      "Enter no of students : 2\n",
      "Enter name and marks : ravi 565\n",
      "Hi  ravi \n",
      "Your marks :  565\n",
      "1st grade\n",
      "Enter name and marks : aman 465\n",
      "Hi  aman \n",
      "Your marks :  465\n",
      "2nd grade\n"
     ]
    }
   ],
   "source": [
    "class person:\n",
    "    def __init__(self,n='',m=0):\n",
    "        self.name = n\n",
    "        self.marks = m\n",
    "    def display(self):\n",
    "        print(\"Hi \",self.name,\"\\nYour marks : \",self.marks)\n",
    "    def calculate(self):\n",
    "        if(self.marks > 500):\n",
    "            print(\"1st grade\")\n",
    "        elif(self.marks > 400 and self.marks<=500):\n",
    "            print(\"2nd grade\")\n",
    "        elif(self.marks > 300 and self.marks<=400):\n",
    "            print(\"3rd grade\")\n",
    "        elif(self.marks > 200 and self.marks<=300):\n",
    "            print(\"4th grade\")\n",
    "        else:\n",
    "            print(\"Fail\")\n",
    "            \n",
    "            \n",
    "i=int(input(\"Enter no of students : \"))\n",
    "\n",
    "while(i!=0):\n",
    "    n,m = map(str,input(\"Enter name and marks : \").split())\n",
    "    \n",
    "    p = person(n,int(m))\n",
    "    p.display()\n",
    "    p.calculate()\n",
    "    i=i-1\n",
    "    \n",
    "    "
   ]
  },
  {
   "cell_type": "code",
   "execution_count": 27,
   "metadata": {},
   "outputs": [
    {
     "name": "stdout",
     "output_type": "stream",
     "text": [
      "Ravi 565\n"
     ]
    }
   ],
   "source": [
    "class student:\n",
    "    def setName(self,n):\n",
    "        self.name = n\n",
    "        \n",
    "    def getName(self):\n",
    "        return self.name\n",
    "    \n",
    "    def setMarks(self,m):\n",
    "        self.marks = m\n",
    "    \n",
    "    def getMarks(self):\n",
    "        return self.marks\n",
    "    \n",
    "    \n",
    "s = student()\n",
    "s.setName(\"Ravi\")\n",
    "print(s.getName(),end=\" \")\n",
    "s.setMarks(565)\n",
    "print(s.getMarks())"
   ]
  },
  {
   "cell_type": "code",
   "execution_count": 4,
   "metadata": {},
   "outputs": [
    {
     "name": "stdout",
     "output_type": "stream",
     "text": [
      "3\n"
     ]
    }
   ],
   "source": [
    "class student:\n",
    "    a=0\n",
    "    def __init__(self):\n",
    "        student.a += 1\n",
    "    @staticmethod\n",
    "    def display():\n",
    "        print(student.a)\n",
    "        \n",
    "\n",
    "s1 = student()\n",
    "s2 = student()\n",
    "s3 = student()\n",
    "\n",
    "student.display()"
   ]
  },
  {
   "cell_type": "code",
   "execution_count": 10,
   "metadata": {},
   "outputs": [
    {
     "name": "stdout",
     "output_type": "stream",
     "text": [
      "Enter number : 100\n",
      "10.0\n"
     ]
    }
   ],
   "source": [
    "import math\n",
    "\n",
    "class sq:\n",
    "    @staticmethod\n",
    "    def calculate(a):\n",
    "        sq.a = a\n",
    "        return math.sqrt(sq.a)\n",
    "    \n",
    "    \n",
    "n=float(input(\"Enter number : \"))\n",
    "print(sq.calculate(n))"
   ]
  },
  {
   "cell_type": "code",
   "execution_count": 15,
   "metadata": {},
   "outputs": [
    {
     "name": "stdout",
     "output_type": "stream",
     "text": [
      "Enter name and balance : ravi 104034\n",
      "d-Deposit w-Withdraw e-Exit\n",
      "w\n",
      "Enter amount to withdraw : 21245134\n",
      "Insufficient Funds\n",
      "After Withdrawl the balance :  None\n",
      "d-Deposit w-Withdraw e-Exit\n",
      "e\n"
     ]
    },
    {
     "ename": "SystemExit",
     "evalue": "0",
     "output_type": "error",
     "traceback": [
      "An exception has occurred, use %tb to see the full traceback.\n",
      "\u001b[0;31mSystemExit\u001b[0m\u001b[0;31m:\u001b[0m 0\n"
     ]
    }
   ],
   "source": [
    "import sys \n",
    "\n",
    "class bank(object):\n",
    "    \n",
    "    def __init__(self,n,bal=0.0):\n",
    "        self.name = n\n",
    "        self.balance = bal\n",
    "        \n",
    "    def deposit(self,amt):\n",
    "        self.balance = self.balance + amt\n",
    "        return self.balance\n",
    "    \n",
    "    def withdraw(self,amt):\n",
    "        self.balance = self.balance - amt\n",
    "        if(amt > self.balance):\n",
    "            print(\"Insufficient Funds\")\n",
    "        else:\n",
    "            return self.balance\n",
    "    \n",
    "\n",
    "name,bal = map(str,input(\"Enter name and balance : \").split())\n",
    "\n",
    "b=bank(name,int(bal))\n",
    "amt=0\n",
    "while(True):\n",
    "    print(\"d-Deposit w-Withdraw e-Exit\")\n",
    "    ch = input()\n",
    "    if(ch=='d'):\n",
    "        amt = int(input(\"Enter amount to deposit : \"))\n",
    "        print(\"After Depositing the balance : \",b.deposit(amt))\n",
    "    elif(ch=='w'):\n",
    "        amt = int(input(\"Enter amount to withdraw : \"))\n",
    "\n",
    "        print(\"After Withdrawl the balance : \",b.withdraw(amt))\n",
    "    elif(ch=='e'):\n",
    "        sys.exit(0)\n",
    "    \n",
    "        "
   ]
  },
  {
   "cell_type": "code",
   "execution_count": 4,
   "metadata": {},
   "outputs": [
    {
     "name": "stdout",
     "output_type": "stream",
     "text": [
      "Enter name : ravi\n",
      "Enter id : 528\n",
      "Enter gender : male\n",
      "name =  ravi \n",
      "id =  528 \n",
      "gender =  male\n"
     ]
    }
   ],
   "source": [
    "class student:\n",
    "    def __init__(self):\n",
    "        self.name=\"\"\n",
    "        self.id=0\n",
    "        self.gender=''\n",
    "    @staticmethod\n",
    "    \n",
    "    def display():\n",
    "        print(\"name = \",student.name,\"\\nid = \",student.id,\"\\ngender = \",student.gender)\n",
    "        \n",
    "    \n",
    "s = student()\n",
    "student.name=input(\"Enter name : \")\n",
    "student.id=int(input(\"Enter id : \"))\n",
    "student.gender = input(\"Enter gender : \")\n",
    "student.display()\n"
   ]
  },
  {
   "cell_type": "code",
   "execution_count": 15,
   "metadata": {},
   "outputs": [
    {
     "name": "stdout",
     "output_type": "stream",
     "text": [
      "name =  RaviRavi \n",
      "id =  528 \n",
      "salary =  119289\n"
     ]
    }
   ],
   "source": [
    "class Emp:\n",
    "    def __init__(self,ide=0,name=\"\",salary=0):\n",
    "        self.id=ide\n",
    "        self.name=name\n",
    "        self.salary=salary\n",
    "        \n",
    "    def display(self):\n",
    "        print(\"name = \",self.name,\"\\nid = \",self.id,\"\\nsalary = \",self.salary)\n",
    "        \n",
    "class Emp_instance:\n",
    "    @staticmethod\n",
    "    def employee(e):\n",
    "        e.salary = e.salary + 10000\n",
    "        e.name = e.name+e.name\n",
    "        e.display()\n",
    "        \n",
    "        \n",
    "    \n",
    "    \n",
    "    \n",
    "e = Emp(528,\"Ravi\",109289)\n",
    "\n",
    "Emp_instance.employee(e)\n"
   ]
  },
  {
   "cell_type": "code",
   "execution_count": 22,
   "metadata": {},
   "outputs": [
    {
     "name": "stdout",
     "output_type": "stream",
     "text": [
      "Enter name : Ravi\n",
      "Name :  Ravi\n",
      "DOB :  18 - 10 - 2001\n",
      "Year =  1998\n"
     ]
    }
   ],
   "source": [
    "class person:\n",
    "    def __init__(self,name):\n",
    "        self.name=name\n",
    "        self.db = self.dob() # Inner class object\n",
    "        \n",
    "    def display(self):\n",
    "        print(\"Name : \",self.name)\n",
    "        \n",
    "        \n",
    "    class dob:\n",
    "        def __init__(self):\n",
    "            self.dd=18\n",
    "            self.mm=10\n",
    "            self.yy=2001\n",
    "        def display(self):\n",
    "            print(\"DOB : \",self.dd,\"-\",self.mm,\"-\",self.yy)\n",
    "            \n",
    "        class year:\n",
    "            def __init__(self):\n",
    "                print(\"Year = \",1998)\n",
    "        \n",
    "        \n",
    "p=person(input(\"Enter name : \"))\n",
    "p.display()\n",
    "\n",
    "i=p.dob() # Inner class object\n",
    "i.display()\n",
    "\n",
    "k=p.dob().year()  # Nested class (Inner class)\n",
    "\n",
    "\n"
   ]
  },
  {
   "cell_type": "code",
   "execution_count": 28,
   "metadata": {},
   "outputs": [
    {
     "name": "stdout",
     "output_type": "stream",
     "text": [
      "Father Property :  20000.0\n",
      "Son property :  1234\n"
     ]
    }
   ],
   "source": [
    "class Father:\n",
    "    \n",
    "    def __init__(self):\n",
    "        self.property = 20000.0\n",
    "        \n",
    "    def display(self):\n",
    "        print(\"Father Property : \",self.property)\n",
    "    \n",
    "class son(Father):\n",
    "    \n",
    "    def __init__(self):   # Constructor OverLoading\n",
    "        self.property = 1234\n",
    "    \n",
    "    def modify(self):\n",
    "        self.property+=1111.1\n",
    "        \n",
    "    def display(self):\n",
    "        print(\"Son property : \",self.property)\n",
    "        \n",
    "        \n",
    "f=Father()\n",
    "f.display()\n",
    "\n",
    "s=son()\n",
    "#s.modify()\n",
    "s.display()\n"
   ]
  },
  {
   "cell_type": "code",
   "execution_count": 30,
   "metadata": {},
   "outputs": [
    {
     "name": "stdout",
     "output_type": "stream",
     "text": [
      "Son property :  1234 \n",
      "Father property :  1000\n"
     ]
    }
   ],
   "source": [
    "class Father:\n",
    "    def __init__(self,propety=0.0):\n",
    "            self.property = propety\n",
    "            \n",
    "class son(Father):\n",
    "    def __init__(self,propety1,propety):\n",
    "        super().__init__(propety)\n",
    "        self.propety1=propety1\n",
    "        \n",
    "    def display(self):\n",
    "        print(\"Son property : \",self.propety1,\"\\nFather property : \",self.property)\n",
    "        \n",
    "\n",
    "s=son(1234,1000)\n",
    "s.display()"
   ]
  },
  {
   "cell_type": "code",
   "execution_count": 21,
   "metadata": {},
   "outputs": [
    {
     "name": "stdout",
     "output_type": "stream",
     "text": [
      "10\n"
     ]
    }
   ],
   "source": [
    "# Single Inheritence\n",
    "\n",
    "\n",
    "class Father:\n",
    "    def __init__(self,a):\n",
    "        self.a = a\n",
    "        \n",
    "class son(Father):\n",
    "    def __init__(self,b):\n",
    "        self.b=b\n",
    "    def display(self):\n",
    "        print(\"b =\",self.b)\n",
    "        \n",
    "        \n",
    "        \n",
    "        \n",
    "f=Father(10)      \n",
    "s=son(20)\n",
    "print(f.a)\n",
    "\n"
   ]
  },
  {
   "cell_type": "code",
   "execution_count": null,
   "metadata": {},
   "outputs": [],
   "source": [
    "class shape:\n",
    "    def __init__(self,dim1,dim2):\n",
    "        self.dim1 = dim1\n",
    "        self.dim2 = dim2\n",
    "        \n",
    "\n",
    "class square(shape):\n",
    "    \n",
    "    super().__init__(dim1,dim2)\n",
    "    def area(self):\n",
    "        print(\"Area : \",self.dim1 * self.dim2)\n",
    "        \n",
    "    def perimeter(self):\n",
    "        print(\"Perimeter : \",4*self.dim1)\n",
    "        \n",
    "class Reactangle(shape,dim1,dim2):\n",
    "    super().__init__(self)\n",
    "    \n",
    "    def area(self):\n",
    "        print(\"Area : \",self.dim1*self.dim2)\n",
    "        \n",
    "    def perimeter(self):\n",
    "        print(\"Perimeter : \",2*(self.dim1+self.dim2))\n",
    "        \n",
    "class Triangle(shape)\n",
    "        \n",
    "    "
   ]
  },
  {
   "cell_type": "code",
   "execution_count": 28,
   "metadata": {},
   "outputs": [
    {
     "name": "stdout",
     "output_type": "stream",
     "text": [
      "Color: red  Age: 28\n",
      "Color: white  Age: 27\n"
     ]
    }
   ],
   "source": [
    "# Multiple Inheritence\n",
    "\n",
    "class Father:\n",
    "    def __init__(self):\n",
    "        self.color=\"red\"\n",
    "        self.age=28\n",
    "        print(\"Color:\",self.color,\" Age:\",self.age)\n",
    "        super().__init__()\n",
    "    \n",
    "class Mother:\n",
    "    def __init__(self):\n",
    "        self.color=\"white\"\n",
    "        self.age=27\n",
    "        print(\"Color:\",self.color,\" Age:\",self.age)\n",
    "        super().__init__()\n",
    "    \n",
    "    \n",
    "class Child(Father,Mother):\n",
    "    def __init__(self):\n",
    "        self.age=10\n",
    "        super().__init__()\n",
    "    def attributes(self,fc,fa,mc,ma):\n",
    "        print(fc,fa,mc,ma,self.age)\n",
    "    \n",
    "    \n",
    "  \n",
    "\n",
    "c=Child()\n",
    "#c.attributes(f.color,f.age,m.color,m.age)\n",
    "    \n",
    "\n",
    "\n"
   ]
  },
  {
   "cell_type": "code",
   "execution_count": null,
   "metadata": {},
   "outputs": [],
   "source": []
  }
 ],
 "metadata": {
  "kernelspec": {
   "display_name": "Python 3",
   "language": "python",
   "name": "python3"
  },
  "language_info": {
   "codemirror_mode": {
    "name": "ipython",
    "version": 3
   },
   "file_extension": ".py",
   "mimetype": "text/x-python",
   "name": "python",
   "nbconvert_exporter": "python",
   "pygments_lexer": "ipython3",
   "version": "3.7.4"
  }
 },
 "nbformat": 4,
 "nbformat_minor": 2
}
